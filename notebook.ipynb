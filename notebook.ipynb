{
 "cells": [
  {
   "cell_type": "code",
   "execution_count": 1,
   "metadata": {},
   "outputs": [],
   "source": [
    "import matplotlib.pyplot as plt\n",
    "import pandas as pd\n",
    "import matplotlib.colors as mc\n",
    "import colorsys"
   ]
  },
  {
   "cell_type": "code",
   "execution_count": 27,
   "metadata": {},
   "outputs": [],
   "source": [
    "def adjust_lightness(color, amount=0.5):\n",
    "    try:\n",
    "        c = mc.cnames[color]\n",
    "    except:\n",
    "        c = color\n",
    "    c = colorsys.rgb_to_hls(*mc.to_rgb(c))\n",
    "    return colorsys.hls_to_rgb(c[0], max(0, min(1, amount * c[1])), c[2])\n",
    "\n",
    "def make_plots(csv, task_name, df_modifier = lambda x:x, xlog=False, ylog=False, title=\"\", program_names=[\"./task1.py\", \"./task2.py\"]):\n",
    "    df = pd.read_csv(f\"{csv}.csv\", sep=';')\n",
    "    df = df.groupby(['program', 'thread_num', 'stars_count'], as_index=False).agg({'time':['mean','std']})\n",
    "    df = df_modifier(df)\n",
    "    colors = {\n",
    "        \"./task1.py\": \"#0fb9b1\",\n",
    "        \"./task2.py\": \"#a55eea\",\n",
    "        \"./task3_zeus.py\": \"#fc5c65\",\n",
    "    }\n",
    "    error_colors = {key: adjust_lightness(colors[key], 0.5) for key in colors}\n",
    "\n",
    "    for program in program_names:\n",
    "        df_ = df[(df[\"program\"]==program)]\n",
    "        plt.plot(df_[\"thread_num\"], df_[\"time\"][\"mean\"], \"o--\", color=colors[program], label=f\"Program {program}\")\n",
    "        plt.errorbar(df_[\"thread_num\"], df_[\"time\"][\"mean\"], df_[\"time\"][\"std\"], color=error_colors[program], linestyle='None', zorder=3, elinewidth=1, capsize=3)\n",
    "\n",
    "    plt.title(title)\n",
    "    plt.xlabel(\"Liczba procesów\")\n",
    "    plt.ylabel(\"Czas wykonania [s]\")\n",
    "    if xlog:\n",
    "        plt.xscale(\"log\")\n",
    "    if ylog:\n",
    "        plt.yscale(\"log\")\n",
    "    plt.legend()\n",
    "    plt.tight_layout()\n",
    "    plt.savefig(f\"images/{task_name}_plot1.jpg\", dpi=300)\n",
    "    plt.clf()\n",
    "\n",
    "    for program in program_names:\n",
    "        df_ = df[(df[\"program\"]==program)]\n",
    "        plt.plot(df_[\"thread_num\"], df_[\"time\"][\"mean\"].values[0] / df_[\"time\"][\"mean\"], \"o--\", color=colors[program], label=f\"Program {program}\")\n",
    "\n",
    "    plt.plot(df[\"thread_num\"], df[\"thread_num\"], \"-\", color=\"#FF6666\", label=f\"Idealne przyspieszenie\")\n",
    "\n",
    "    plt.title(title)\n",
    "    plt.xlabel(\"Liczba procesów\")\n",
    "    plt.ylabel(\"Przyspieszenie\")\n",
    "    if xlog:\n",
    "        plt.xscale(\"log\")\n",
    "    if ylog:\n",
    "        plt.yscale(\"log\")\n",
    "    plt.legend()\n",
    "    plt.tight_layout()\n",
    "    plt.savefig(f\"images/{task_name}_plot2.jpg\", dpi=300)\n",
    "    plt.clf()"
   ]
  },
  {
   "cell_type": "code",
   "execution_count": 28,
   "metadata": {},
   "outputs": [
    {
     "data": {
      "text/plain": [
       "<Figure size 432x288 with 0 Axes>"
      ]
     },
     "metadata": {},
     "output_type": "display_data"
    }
   ],
   "source": [
    "make_plots(\"report-acer\", \"plots-acer\", lambda df: df[(df[\"thread_num\"]<=8)], title=\"Zależność przyspieszenia od liczby procesów\\nIntel Core i5-7300HQ\")\n",
    "make_plots(\"report-acer\", \"plots-acer-threads\", xlog=True, ylog=True, title=\"Zależność przyspieszenia od liczby procesów\\nIntel Core i5-7300HQ\")\n",
    "make_plots(\"report-zeus\", \"plots-zeus\", title=\"Zależność przyspieszenia od liczby procesów\\nZEUS\", program_names=[\"./task1.py\", \"./task2.py\", \"./task3_zeus.py\"])"
   ]
  },
  {
   "cell_type": "code",
   "execution_count": null,
   "metadata": {},
   "outputs": [],
   "source": []
  }
 ],
 "metadata": {
  "interpreter": {
   "hash": "aee8b7b246df8f9039afb4144a1f6fd8d2ca17a180786b69acc140d282b71a49"
  },
  "kernelspec": {
   "display_name": "Python 3.9.7 64-bit",
   "language": "python",
   "name": "python3"
  },
  "language_info": {
   "codemirror_mode": {
    "name": "ipython",
    "version": 3
   },
   "file_extension": ".py",
   "mimetype": "text/x-python",
   "name": "python",
   "nbconvert_exporter": "python",
   "pygments_lexer": "ipython3",
   "version": "3.9.7"
  },
  "orig_nbformat": 4
 },
 "nbformat": 4,
 "nbformat_minor": 2
}
